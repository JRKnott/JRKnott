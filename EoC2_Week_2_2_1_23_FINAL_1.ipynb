{
  "nbformat": 4,
  "nbformat_minor": 0,
  "metadata": {
    "colab": {
      "provenance": []
    },
    "kernelspec": {
      "name": "python3",
      "display_name": "Python 3"
    },
    "language_info": {
      "name": "python"
    }
  },
  "cells": [
    {
      "cell_type": "markdown",
      "source": [
        "# Introduction to Testing in Python\n",
        "\n",
        "## Why Test Code?\n",
        "- Testing ensures your code behaves as expected.\n",
        "- It helps you catch errors early, saving time in debugging.\n",
        "- Good testing improves code quality and makes collaboration easier.\n",
        "\n",
        "## Types of Tests\n",
        "- **Unit Tests**: Test individual functions or methods.\n",
        "- **Integration Tests**: Test how components work together.\n",
        "- **End-to-End Tests**: Simulate user interactions in a full application.\n",
        "\n",
        "## What Will You Learn Today?\n",
        "1. How to write and run tests using Python’s `pytest`.\n",
        "2. How to handle edge cases through testing.\n",
        "3. How to collaborate to design and implement new tests.\n",
        "\n",
        "Let's start by writing a small program and testing it."
      ],
      "metadata": {
        "id": "RdoTAcVjo1Jo"
      }
    },
    {
      "cell_type": "code",
      "source": [
        "# Starter Code: DataAnalyzer Class\n",
        "import statistics\n",
        "\n",
        "class DataAnalyzer:\n",
        "    def __init__(self, data):\n",
        "        \"\"\"\n",
        "        Initializes the DataAnalyzer with a list of numeric values.\n",
        "        \"\"\"\n",
        "        self.data = data\n",
        "\n",
        "    def mean(self):\n",
        "        \"\"\"Calculates the mean of the numeric data.\"\"\"\n",
        "        return statistics.mean(self.data)"
      ],
      "metadata": {
        "id": "1EA-VLIHo-d8"
      },
      "execution_count": 14,
      "outputs": []
    },
    {
      "cell_type": "code",
      "source": [
        "test_Data = DataAnalyzer([4,5,6])\n",
        "test_Data.mean()"
      ],
      "metadata": {
        "colab": {
          "base_uri": "https://localhost:8080/"
        },
        "id": "J8txCjh8URSa",
        "outputId": "e851ad7d-96a8-402f-dbd2-3d880d026220"
      },
      "execution_count": 15,
      "outputs": [
        {
          "output_type": "execute_result",
          "data": {
            "text/plain": [
              "5"
            ]
          },
          "metadata": {},
          "execution_count": 15
        }
      ]
    },
    {
      "cell_type": "markdown",
      "source": [
        "## Writing Your First Test\n",
        "\n",
        "Testing in Python often uses the `pytest` library. Let's write our first test for the `mean` method in the `DataAnalyzer` class.\n",
        "\n",
        "- **Arrange**: Set up the input data.\n",
        "- **Act**: Call the function you want to test.\n",
        "- **Assert**: Verify that the result matches your expectations."
      ],
      "metadata": {
        "id": "hFz9OjkfpE5a"
      }
    },
    {
      "cell_type": "code",
      "source": [
        "# First Test: test_mean\n",
        "def test_mean(data_list, mean_value):\n",
        "    \"\"\"\n",
        "    Tests the mean function of DataAnalyzer with a list of numbers.\n",
        "    \"\"\"\n",
        "    analyzer = DataAnalyzer(data_list)\n",
        "    assert analyzer.mean() == mean_value"
      ],
      "metadata": {
        "id": "BS9Gzxv6pDje"
      },
      "execution_count": 16,
      "outputs": []
    },
    {
      "cell_type": "code",
      "source": [
        "# Run the test\n",
        "try:\n",
        "    test_mean([85, 90, 95], 90)\n",
        "    print(\"test_mean passed successfully!\")\n",
        "except AssertionError:\n",
        "    print(f\"test_mean failed\")"
      ],
      "metadata": {
        "colab": {
          "base_uri": "https://localhost:8080/"
        },
        "id": "FPIyDQ6RpK_B",
        "outputId": "f844a11d-48c2-473a-cd95-de66d8d527d2"
      },
      "execution_count": 17,
      "outputs": [
        {
          "output_type": "stream",
          "name": "stdout",
          "text": [
            "test_mean passed successfully!\n"
          ]
        }
      ]
    },
    {
      "cell_type": "markdown",
      "source": [
        "## Adding `median` and `mode` Methods\n",
        "\n",
        "Now, let's extend the `DataAnalyzer` class by adding a method to calculate the median.\n",
        "Afterward, we will write a new test for this method."
      ],
      "metadata": {
        "id": "96YeUygspXc_"
      }
    },
    {
      "cell_type": "code",
      "source": [
        "# Modify DataAnalyzer: Add median method\n",
        "class DataAnalyzer:\n",
        "    def __init__(self, data):\n",
        "        self.data = data\n",
        "\n",
        "    def mean(self):\n",
        "        return round(statistics.mean(self.data), 1)\n",
        "\n",
        "    def median(self):\n",
        "        \"\"\"Calculates the median of the numeric data.\"\"\"\n",
        "        return statistics.median(self.data)\n",
        "\n",
        "    def mode(self):\n",
        "        \"\"\"Calculates the median of the numeric data.\"\"\"\n",
        "        return statistics.mode(self.data)\n",
        "\n",
        "# Create test function for median\n",
        "def test_median(data_list, median_value):\n",
        "    analyzer = DataAnalyzer(data_list)\n",
        "    assert analyzer.median() == median_value\n",
        "\n",
        "# Create test function for mode\n",
        "def test_mode(data_list, mode_value):\n",
        "    analyzer = DataAnalyzer(data_list)\n",
        "    assert analyzer.mode() == mode_value\n",
        "\n",
        "# Run test functions\n",
        "try:\n",
        "    #test_median([85, 85, 95], 85)\n",
        "    #test_mode([85, 85, 95], 85)\n",
        "    test_mean([90, 85, 90], 88.3)\n",
        "    print(\"test passed successfully!\")\n",
        "except AssertionError:\n",
        "    print(f\"test failed\")"
      ],
      "metadata": {
        "colab": {
          "base_uri": "https://localhost:8080/"
        },
        "id": "ufJqQm7ppaWo",
        "outputId": "9380e0b3-ea99-4493-c6a2-27612c730478"
      },
      "execution_count": 18,
      "outputs": [
        {
          "output_type": "stream",
          "name": "stdout",
          "text": [
            "test passed successfully!\n"
          ]
        }
      ]
    },
    {
      "cell_type": "markdown",
      "source": [
        "## Investigating Edge Cases\n",
        "\n",
        "What happens if:\n",
        "1. The list of numbers is empty?\n",
        "2. The list contains non-numeric data?\n",
        "\n",
        "Let's write two new test functions to handle these scenarios:\n",
        "- **test_empty_list**\n",
        "- **test_non_numeric_data**"
      ],
      "metadata": {
        "id": "HO7wAQRMsZMy"
      }
    },
    {
      "cell_type": "code",
      "source": [
        "empty_list = []\n",
        "DataAnalyzer(empty_list).mean() # Trying to run an empty list leads to a StatisticsError"
      ],
      "metadata": {
        "colab": {
          "base_uri": "https://localhost:8080/",
          "height": 304
        },
        "id": "PmlAAe3N9cdk",
        "outputId": "cb552510-afc1-48e0-d594-66a980c5db47"
      },
      "execution_count": 19,
      "outputs": [
        {
          "output_type": "error",
          "ename": "StatisticsError",
          "evalue": "mean requires at least one data point",
          "traceback": [
            "\u001b[0;31m---------------------------------------------------------------------------\u001b[0m",
            "\u001b[0;31mStatisticsError\u001b[0m                           Traceback (most recent call last)",
            "\u001b[0;32m<ipython-input-19-3e4442459352>\u001b[0m in \u001b[0;36m<cell line: 0>\u001b[0;34m()\u001b[0m\n\u001b[1;32m      1\u001b[0m \u001b[0mempty_list\u001b[0m \u001b[0;34m=\u001b[0m \u001b[0;34m[\u001b[0m\u001b[0;34m]\u001b[0m\u001b[0;34m\u001b[0m\u001b[0;34m\u001b[0m\u001b[0m\n\u001b[0;32m----> 2\u001b[0;31m \u001b[0mDataAnalyzer\u001b[0m\u001b[0;34m(\u001b[0m\u001b[0mempty_list\u001b[0m\u001b[0;34m)\u001b[0m\u001b[0;34m.\u001b[0m\u001b[0mmean\u001b[0m\u001b[0;34m(\u001b[0m\u001b[0;34m)\u001b[0m \u001b[0;31m# Trying to run an empty list leads to a StatisticsError\u001b[0m\u001b[0;34m\u001b[0m\u001b[0;34m\u001b[0m\u001b[0m\n\u001b[0m",
            "\u001b[0;32m<ipython-input-18-d6ba12a31cdc>\u001b[0m in \u001b[0;36mmean\u001b[0;34m(self)\u001b[0m\n\u001b[1;32m      5\u001b[0m \u001b[0;34m\u001b[0m\u001b[0m\n\u001b[1;32m      6\u001b[0m     \u001b[0;32mdef\u001b[0m \u001b[0mmean\u001b[0m\u001b[0;34m(\u001b[0m\u001b[0mself\u001b[0m\u001b[0;34m)\u001b[0m\u001b[0;34m:\u001b[0m\u001b[0;34m\u001b[0m\u001b[0;34m\u001b[0m\u001b[0m\n\u001b[0;32m----> 7\u001b[0;31m         \u001b[0;32mreturn\u001b[0m \u001b[0mround\u001b[0m\u001b[0;34m(\u001b[0m\u001b[0mstatistics\u001b[0m\u001b[0;34m.\u001b[0m\u001b[0mmean\u001b[0m\u001b[0;34m(\u001b[0m\u001b[0mself\u001b[0m\u001b[0;34m.\u001b[0m\u001b[0mdata\u001b[0m\u001b[0;34m)\u001b[0m\u001b[0;34m,\u001b[0m \u001b[0;36m1\u001b[0m\u001b[0;34m)\u001b[0m\u001b[0;34m\u001b[0m\u001b[0;34m\u001b[0m\u001b[0m\n\u001b[0m\u001b[1;32m      8\u001b[0m \u001b[0;34m\u001b[0m\u001b[0m\n\u001b[1;32m      9\u001b[0m     \u001b[0;32mdef\u001b[0m \u001b[0mmedian\u001b[0m\u001b[0;34m(\u001b[0m\u001b[0mself\u001b[0m\u001b[0;34m)\u001b[0m\u001b[0;34m:\u001b[0m\u001b[0;34m\u001b[0m\u001b[0;34m\u001b[0m\u001b[0m\n",
            "\u001b[0;32m/usr/lib/python3.11/statistics.py\u001b[0m in \u001b[0;36mmean\u001b[0;34m(data)\u001b[0m\n\u001b[1;32m    430\u001b[0m     \u001b[0mT\u001b[0m\u001b[0;34m,\u001b[0m \u001b[0mtotal\u001b[0m\u001b[0;34m,\u001b[0m \u001b[0mn\u001b[0m \u001b[0;34m=\u001b[0m \u001b[0m_sum\u001b[0m\u001b[0;34m(\u001b[0m\u001b[0mdata\u001b[0m\u001b[0;34m)\u001b[0m\u001b[0;34m\u001b[0m\u001b[0;34m\u001b[0m\u001b[0m\n\u001b[1;32m    431\u001b[0m     \u001b[0;32mif\u001b[0m \u001b[0mn\u001b[0m \u001b[0;34m<\u001b[0m \u001b[0;36m1\u001b[0m\u001b[0;34m:\u001b[0m\u001b[0;34m\u001b[0m\u001b[0;34m\u001b[0m\u001b[0m\n\u001b[0;32m--> 432\u001b[0;31m         \u001b[0;32mraise\u001b[0m \u001b[0mStatisticsError\u001b[0m\u001b[0;34m(\u001b[0m\u001b[0;34m'mean requires at least one data point'\u001b[0m\u001b[0;34m)\u001b[0m\u001b[0;34m\u001b[0m\u001b[0;34m\u001b[0m\u001b[0m\n\u001b[0m\u001b[1;32m    433\u001b[0m     \u001b[0;32mreturn\u001b[0m \u001b[0m_convert\u001b[0m\u001b[0;34m(\u001b[0m\u001b[0mtotal\u001b[0m \u001b[0;34m/\u001b[0m \u001b[0mn\u001b[0m\u001b[0;34m,\u001b[0m \u001b[0mT\u001b[0m\u001b[0;34m)\u001b[0m\u001b[0;34m\u001b[0m\u001b[0;34m\u001b[0m\u001b[0m\n\u001b[1;32m    434\u001b[0m \u001b[0;34m\u001b[0m\u001b[0m\n",
            "\u001b[0;31mStatisticsError\u001b[0m: mean requires at least one data point"
          ]
        }
      ]
    },
    {
      "cell_type": "code",
      "source": [
        "non_num_list = [\"a\", \"b\", \"c\"]\n",
        "DataAnalyzer(non_num_list).mean() # Trying to run an empty list leads to a TypeError"
      ],
      "metadata": {
        "colab": {
          "base_uri": "https://localhost:8080/",
          "height": 408
        },
        "id": "TiHrGzMf9rAK",
        "outputId": "c24ea314-e646-4114-b9c3-eed84add96de"
      },
      "execution_count": 20,
      "outputs": [
        {
          "output_type": "error",
          "ename": "TypeError",
          "evalue": "can't convert type 'str' to numerator/denominator",
          "traceback": [
            "\u001b[0;31m---------------------------------------------------------------------------\u001b[0m",
            "\u001b[0;31mAttributeError\u001b[0m                            Traceback (most recent call last)",
            "\u001b[0;32m/usr/lib/python3.11/statistics.py\u001b[0m in \u001b[0;36m_exact_ratio\u001b[0;34m(x)\u001b[0m\n\u001b[1;32m    326\u001b[0m         \u001b[0;31m# x may be an Integral ABC.\u001b[0m\u001b[0;34m\u001b[0m\u001b[0;34m\u001b[0m\u001b[0m\n\u001b[0;32m--> 327\u001b[0;31m         \u001b[0;32mreturn\u001b[0m \u001b[0;34m(\u001b[0m\u001b[0mx\u001b[0m\u001b[0;34m.\u001b[0m\u001b[0mnumerator\u001b[0m\u001b[0;34m,\u001b[0m \u001b[0mx\u001b[0m\u001b[0;34m.\u001b[0m\u001b[0mdenominator\u001b[0m\u001b[0;34m)\u001b[0m\u001b[0;34m\u001b[0m\u001b[0;34m\u001b[0m\u001b[0m\n\u001b[0m\u001b[1;32m    328\u001b[0m     \u001b[0;32mexcept\u001b[0m \u001b[0mAttributeError\u001b[0m\u001b[0;34m:\u001b[0m\u001b[0;34m\u001b[0m\u001b[0;34m\u001b[0m\u001b[0m\n",
            "\u001b[0;31mAttributeError\u001b[0m: 'str' object has no attribute 'numerator'",
            "\nDuring handling of the above exception, another exception occurred:\n",
            "\u001b[0;31mTypeError\u001b[0m                                 Traceback (most recent call last)",
            "\u001b[0;32m<ipython-input-20-1bb981986cf4>\u001b[0m in \u001b[0;36m<cell line: 0>\u001b[0;34m()\u001b[0m\n\u001b[1;32m      1\u001b[0m \u001b[0mnon_num_list\u001b[0m \u001b[0;34m=\u001b[0m \u001b[0;34m[\u001b[0m\u001b[0;34m\"a\"\u001b[0m\u001b[0;34m,\u001b[0m \u001b[0;34m\"b\"\u001b[0m\u001b[0;34m,\u001b[0m \u001b[0;34m\"c\"\u001b[0m\u001b[0;34m]\u001b[0m\u001b[0;34m\u001b[0m\u001b[0;34m\u001b[0m\u001b[0m\n\u001b[0;32m----> 2\u001b[0;31m \u001b[0mDataAnalyzer\u001b[0m\u001b[0;34m(\u001b[0m\u001b[0mnon_num_list\u001b[0m\u001b[0;34m)\u001b[0m\u001b[0;34m.\u001b[0m\u001b[0mmean\u001b[0m\u001b[0;34m(\u001b[0m\u001b[0;34m)\u001b[0m \u001b[0;31m# Trying to run an empty list leads to a TypeError\u001b[0m\u001b[0;34m\u001b[0m\u001b[0;34m\u001b[0m\u001b[0m\n\u001b[0m",
            "\u001b[0;32m<ipython-input-18-d6ba12a31cdc>\u001b[0m in \u001b[0;36mmean\u001b[0;34m(self)\u001b[0m\n\u001b[1;32m      5\u001b[0m \u001b[0;34m\u001b[0m\u001b[0m\n\u001b[1;32m      6\u001b[0m     \u001b[0;32mdef\u001b[0m \u001b[0mmean\u001b[0m\u001b[0;34m(\u001b[0m\u001b[0mself\u001b[0m\u001b[0;34m)\u001b[0m\u001b[0;34m:\u001b[0m\u001b[0;34m\u001b[0m\u001b[0;34m\u001b[0m\u001b[0m\n\u001b[0;32m----> 7\u001b[0;31m         \u001b[0;32mreturn\u001b[0m \u001b[0mround\u001b[0m\u001b[0;34m(\u001b[0m\u001b[0mstatistics\u001b[0m\u001b[0;34m.\u001b[0m\u001b[0mmean\u001b[0m\u001b[0;34m(\u001b[0m\u001b[0mself\u001b[0m\u001b[0;34m.\u001b[0m\u001b[0mdata\u001b[0m\u001b[0;34m)\u001b[0m\u001b[0;34m,\u001b[0m \u001b[0;36m1\u001b[0m\u001b[0;34m)\u001b[0m\u001b[0;34m\u001b[0m\u001b[0;34m\u001b[0m\u001b[0m\n\u001b[0m\u001b[1;32m      8\u001b[0m \u001b[0;34m\u001b[0m\u001b[0m\n\u001b[1;32m      9\u001b[0m     \u001b[0;32mdef\u001b[0m \u001b[0mmedian\u001b[0m\u001b[0;34m(\u001b[0m\u001b[0mself\u001b[0m\u001b[0;34m)\u001b[0m\u001b[0;34m:\u001b[0m\u001b[0;34m\u001b[0m\u001b[0;34m\u001b[0m\u001b[0m\n",
            "\u001b[0;32m/usr/lib/python3.11/statistics.py\u001b[0m in \u001b[0;36mmean\u001b[0;34m(data)\u001b[0m\n\u001b[1;32m    428\u001b[0m     \u001b[0mIf\u001b[0m\u001b[0;31m \u001b[0m\u001b[0;31m`\u001b[0m\u001b[0;31m`\u001b[0m\u001b[0mdata\u001b[0m\u001b[0;31m`\u001b[0m\u001b[0;31m`\u001b[0m \u001b[0;32mis\u001b[0m \u001b[0mempty\u001b[0m\u001b[0;34m,\u001b[0m \u001b[0mStatisticsError\u001b[0m \u001b[0mwill\u001b[0m \u001b[0mbe\u001b[0m \u001b[0mraised\u001b[0m\u001b[0;34m.\u001b[0m\u001b[0;34m\u001b[0m\u001b[0;34m\u001b[0m\u001b[0m\n\u001b[1;32m    429\u001b[0m     \"\"\"\n\u001b[0;32m--> 430\u001b[0;31m     \u001b[0mT\u001b[0m\u001b[0;34m,\u001b[0m \u001b[0mtotal\u001b[0m\u001b[0;34m,\u001b[0m \u001b[0mn\u001b[0m \u001b[0;34m=\u001b[0m \u001b[0m_sum\u001b[0m\u001b[0;34m(\u001b[0m\u001b[0mdata\u001b[0m\u001b[0;34m)\u001b[0m\u001b[0;34m\u001b[0m\u001b[0;34m\u001b[0m\u001b[0m\n\u001b[0m\u001b[1;32m    431\u001b[0m     \u001b[0;32mif\u001b[0m \u001b[0mn\u001b[0m \u001b[0;34m<\u001b[0m \u001b[0;36m1\u001b[0m\u001b[0;34m:\u001b[0m\u001b[0;34m\u001b[0m\u001b[0;34m\u001b[0m\u001b[0m\n\u001b[1;32m    432\u001b[0m         \u001b[0;32mraise\u001b[0m \u001b[0mStatisticsError\u001b[0m\u001b[0;34m(\u001b[0m\u001b[0;34m'mean requires at least one data point'\u001b[0m\u001b[0;34m)\u001b[0m\u001b[0;34m\u001b[0m\u001b[0;34m\u001b[0m\u001b[0m\n",
            "\u001b[0;32m/usr/lib/python3.11/statistics.py\u001b[0m in \u001b[0;36m_sum\u001b[0;34m(data)\u001b[0m\n\u001b[1;32m    191\u001b[0m     \u001b[0;32mfor\u001b[0m \u001b[0mtyp\u001b[0m\u001b[0;34m,\u001b[0m \u001b[0mvalues\u001b[0m \u001b[0;32min\u001b[0m \u001b[0mgroupby\u001b[0m\u001b[0;34m(\u001b[0m\u001b[0mdata\u001b[0m\u001b[0;34m,\u001b[0m \u001b[0mtype\u001b[0m\u001b[0;34m)\u001b[0m\u001b[0;34m:\u001b[0m\u001b[0;34m\u001b[0m\u001b[0;34m\u001b[0m\u001b[0m\n\u001b[1;32m    192\u001b[0m         \u001b[0mtypes_add\u001b[0m\u001b[0;34m(\u001b[0m\u001b[0mtyp\u001b[0m\u001b[0;34m)\u001b[0m\u001b[0;34m\u001b[0m\u001b[0;34m\u001b[0m\u001b[0m\n\u001b[0;32m--> 193\u001b[0;31m         \u001b[0;32mfor\u001b[0m \u001b[0mn\u001b[0m\u001b[0;34m,\u001b[0m \u001b[0md\u001b[0m \u001b[0;32min\u001b[0m \u001b[0mmap\u001b[0m\u001b[0;34m(\u001b[0m\u001b[0m_exact_ratio\u001b[0m\u001b[0;34m,\u001b[0m \u001b[0mvalues\u001b[0m\u001b[0;34m)\u001b[0m\u001b[0;34m:\u001b[0m\u001b[0;34m\u001b[0m\u001b[0;34m\u001b[0m\u001b[0m\n\u001b[0m\u001b[1;32m    194\u001b[0m             \u001b[0mcount\u001b[0m \u001b[0;34m+=\u001b[0m \u001b[0;36m1\u001b[0m\u001b[0;34m\u001b[0m\u001b[0;34m\u001b[0m\u001b[0m\n\u001b[1;32m    195\u001b[0m             \u001b[0mpartials\u001b[0m\u001b[0;34m[\u001b[0m\u001b[0md\u001b[0m\u001b[0;34m]\u001b[0m \u001b[0;34m=\u001b[0m \u001b[0mpartials_get\u001b[0m\u001b[0;34m(\u001b[0m\u001b[0md\u001b[0m\u001b[0;34m,\u001b[0m \u001b[0;36m0\u001b[0m\u001b[0;34m)\u001b[0m \u001b[0;34m+\u001b[0m \u001b[0mn\u001b[0m\u001b[0;34m\u001b[0m\u001b[0;34m\u001b[0m\u001b[0m\n",
            "\u001b[0;32m/usr/lib/python3.11/statistics.py\u001b[0m in \u001b[0;36m_exact_ratio\u001b[0;34m(x)\u001b[0m\n\u001b[1;32m    328\u001b[0m     \u001b[0;32mexcept\u001b[0m \u001b[0mAttributeError\u001b[0m\u001b[0;34m:\u001b[0m\u001b[0;34m\u001b[0m\u001b[0;34m\u001b[0m\u001b[0m\n\u001b[1;32m    329\u001b[0m         \u001b[0mmsg\u001b[0m \u001b[0;34m=\u001b[0m \u001b[0;34mf\"can't convert type '{type(x).__name__}' to numerator/denominator\"\u001b[0m\u001b[0;34m\u001b[0m\u001b[0;34m\u001b[0m\u001b[0m\n\u001b[0;32m--> 330\u001b[0;31m         \u001b[0;32mraise\u001b[0m \u001b[0mTypeError\u001b[0m\u001b[0;34m(\u001b[0m\u001b[0mmsg\u001b[0m\u001b[0;34m)\u001b[0m\u001b[0;34m\u001b[0m\u001b[0;34m\u001b[0m\u001b[0m\n\u001b[0m\u001b[1;32m    331\u001b[0m \u001b[0;34m\u001b[0m\u001b[0m\n\u001b[1;32m    332\u001b[0m \u001b[0;34m\u001b[0m\u001b[0m\n",
            "\u001b[0;31mTypeError\u001b[0m: can't convert type 'str' to numerator/denominator"
          ]
        }
      ]
    },
    {
      "cell_type": "markdown",
      "source": [
        "#### `test_empty_list`\n",
        "- **Purpose**: Ensures the `mean` method raises an error when called with an empty list.\n",
        "- **Key Points**:\n",
        "  - An empty list cannot have a mean, so the method should raise an error.\n",
        "  - Uses `pytest.raises` to check for `statistics.StatisticsError`."
      ],
      "metadata": {
        "id": "_Aew4Wgg2dih"
      }
    },
    {
      "cell_type": "code",
      "execution_count": 25,
      "metadata": {
        "id": "CJ4SgG-Mc4nH"
      },
      "outputs": [],
      "source": [
        "import pytest\n",
        "\n",
        "def test_empty_list():\n",
        "    data = []\n",
        "    analyzer = DataAnalyzer(data)\n",
        "    with pytest.raises(statistics.StatisticsError):\n",
        "        analyzer.mean()"
      ]
    },
    {
      "cell_type": "markdown",
      "source": [
        "#### `test_non_numeric_data`\n",
        "- **Purpose**: Verifies that the `mean` method raises a `TypeError` when non-numeric data is provided.\n",
        "- **Key Points**:\n",
        "  - The `sum` function cannot handle non-numeric values.\n",
        "  - This test ensures invalid input is handled explicitly."
      ],
      "metadata": {
        "id": "wboyIUd-2xpi"
      }
    },
    {
      "cell_type": "code",
      "source": [
        "def test_non_numeric_data():\n",
        "    data = [\"a\", \"b\", \"c\"]\n",
        "    analyzer = DataAnalyzer(data)\n",
        "    with pytest.raises(TypeError):\n",
        "        analyzer.mean()"
      ],
      "metadata": {
        "id": "dV_fR92H2yb6"
      },
      "execution_count": 22,
      "outputs": []
    },
    {
      "cell_type": "markdown",
      "source": [
        "## Final Challenge Instructions: Rewriting the DataAnalyzer Class\n",
        "For the final challenge, you will modify the `DataAnalyzer` class to calculate the mean, median, and mode manually without using any functions from the statistics library.\n",
        "\n",
        "**Instructions**\n",
        "1. Re-Write the `mean` Method\n",
        "    * Manually calculate the mean using a `for loop` to sum the values in the list.\n",
        "    * Avoid using the `sum` function.\n",
        "    * Round to 1 decimal\n",
        "\n",
        "2. Re-Write the median Method\n",
        "    * Manually calculate the median by:\n",
        "        * Sorting the list.\n",
        "        * Finding the middle value if the list has an odd number of elements.\n",
        "        * Averaging the two middle values if the list has an even number of elements.\n",
        "\n",
        "3. Re-Write the mode Method\n",
        "    * Manually calculate the mode by:\n",
        "        * Counting the frequency of each number in the list using a dictionary.\n",
        "        * Identifying the number with the highest frequency.\n",
        "\n",
        "4. Test Your Implementation\n",
        "    * Use the provided test functions (test_mean, test_median, test_mode) to verify your manual implementations work correctly.\n",
        "    * Run your tests using pytest or manually in the notebook."
      ],
      "metadata": {
        "id": "5iB8Mz2i3Dp_"
      }
    },
    {
      "cell_type": "code",
      "source": [
        "class DataAnalyzer:\n",
        "    def __init__(self, data):\n",
        "        \"\"\"\n",
        "        Initializes the DataAnalyzer with a list of numeric values.\n",
        "        \"\"\"\n",
        "        self.data = data\n",
        "\n",
        "    def mean(self):\n",
        "        \"\"\"Manually calculates the mean of the numeric data.\"\"\"\n",
        "        total = 0\n",
        "        for num in self.data:\n",
        "            total += num  # Add each number to the total\n",
        "        return round(total / len(self.data), 1)  # Divide by the count and round to 1 decimal place\n",
        "\n",
        "    def median(self):\n",
        "        \"\"\"Manually calculates the median of the numeric data.\"\"\"\n",
        "        sorted_data = sorted(self.data)  # Sort the data\n",
        "        n = len(sorted_data)\n",
        "        mid = n // 2  # Integer division to find the midpoint\n",
        "\n",
        "        if n % 2 == 0:  # Even number of elements\n",
        "            return (sorted_data[mid - 1] + sorted_data[mid]) / 2  # Average the two middle elements\n",
        "        else:  # Odd number of elements\n",
        "            return sorted_data[mid]  # Return the middle element\n",
        "\n",
        "    def mode(self):\n",
        "        \"\"\"Manually calculates the mode of the numeric data.\"\"\"\n",
        "        frequency = {}\n",
        "        for num in self.data:\n",
        "            if num in frequency:\n",
        "                frequency[num] += 1  # Increment count for existing numbers\n",
        "            else:\n",
        "                frequency[num] = 1  # Add new numbers to the dictionary\n",
        "\n",
        "        max_frequency = max(frequency.values())  # Find the highest frequency\n",
        "        modes = [key for key, value in frequency.items() if value == max_frequency]\n",
        "\n",
        "        if len(modes) == 1:  # If there's a single mode\n",
        "            return modes[0]\n",
        "        else:\n",
        "            raise ValueError(\"No unique mode found\")  # Handle cases with multiple modes\n"
      ],
      "metadata": {
        "id": "_J-NcaPpFsi5"
      },
      "execution_count": null,
      "outputs": []
    },
    {
      "cell_type": "code",
      "source": [
        "# First Test: test_mean\n",
        "def test_mean(data_list, mean_value):\n",
        "    analyzer = DataAnalyzer(data_list)\n",
        "    assert analyzer.mean() == mean_value\n",
        "\n",
        "# Create test function for median\n",
        "def test_median(data_list, median_value):\n",
        "    analyzer = DataAnalyzer(data_list)\n",
        "    assert analyzer.median() == median_value\n",
        "\n",
        "# Create test function for mode\n",
        "def test_mode(data_list, mode_value):\n",
        "    analyzer = DataAnalyzer(data_list)\n",
        "    assert analyzer.mode() == mode_value\n",
        "\n",
        "# Run test functions\n",
        "try:\n",
        "    test_median([90, 85, 95], 90)\n",
        "    #test_mode([85, 85, 95], 85)\n",
        "    #test_mean([90, 85, 90], 88.3)\n",
        "    print(\"test passed successfully!\")\n",
        "except AssertionError:\n",
        "    print(f\"test failed\")"
      ],
      "metadata": {
        "colab": {
          "base_uri": "https://localhost:8080/"
        },
        "id": "HCIZsAh532ls",
        "outputId": "c262e8e5-99d0-407a-d316-e67283729abc"
      },
      "execution_count": null,
      "outputs": [
        {
          "output_type": "stream",
          "name": "stdout",
          "text": [
            "test passed successfully!\n"
          ]
        }
      ]
    }
  ]
}